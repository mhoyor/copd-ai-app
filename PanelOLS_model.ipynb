{
 "cells": [
  {
   "cell_type": "code",
   "execution_count": 1,
   "metadata": {},
   "outputs": [
    {
     "name": "stderr",
     "output_type": "stream",
     "text": [
      "/Users/apple/Library/Python/3.9/lib/python/site-packages/tqdm/auto.py:21: TqdmWarning: IProgress not found. Please update jupyter and ipywidgets. See https://ipywidgets.readthedocs.io/en/stable/user_install.html\n",
      "  from .autonotebook import tqdm as notebook_tqdm\n"
     ]
    }
   ],
   "source": [
    "import pandas as pd\n",
    "import numpy as np\n",
    "import xgboost as xgb\n",
    "import shap\n",
    "import matplotlib.pyplot as plt\n",
    "import statsmodels.api as sm\n",
    "import seaborn as sns\n",
    "from sklearn.preprocessing import StandardScaler\n",
    "from sklearn.model_selection import train_test_split\n",
    "from sklearn.linear_model import Ridge, Lasso, QuantileRegressor, LinearRegression\n",
    "from sklearn.ensemble import RandomForestRegressor\n",
    "from sklearn.metrics import r2_score, mean_absolute_error, mean_squared_error\n",
    "from linearmodels.panel import PanelOLS\n",
    "from statsmodels.stats.outliers_influence import variance_inflation_factor\n",
    "from numpy.linalg import matrix_rank"
   ]
  },
  {
   "cell_type": "code",
   "execution_count": null,
   "metadata": {},
   "outputs": [],
   "source": [
    "# Read Data\n",
    "\n",
    "path='./Data/merged_burden_risk.csv'\n",
    "\n",
    "df = pd.read_csv(path)"
   ]
  },
  {
   "cell_type": "code",
   "execution_count": null,
   "metadata": {},
   "outputs": [],
   "source": [
    "#rename columns for ease \n",
    "\n",
    "df = df.dropna(subset=['dalys_(disability-adjusted_life_years)'])\n",
    "df.rename(columns={'Chronic_Respiratory(RSD)': 'RSD'}, inplace=True)\n",
    "df.rename(columns={'dalys_(disability-adjusted_life_years)': 'DALYs'}, inplace=True)\n",
    "df = df.sort_values(by=['country', 'year'])"
   ]
  },
  {
   "cell_type": "code",
   "execution_count": null,
   "metadata": {},
   "outputs": [],
   "source": [
    "#filling in missing data for HAQ_Index and RSD using Linear Interpolation and Regression Imputation\n",
    "\n",
    "# Step 1: Linear interpolation (within each country)\n",
    "for col in ['HAQ_Index', 'RSD']:\n",
    "    df[col] = df.groupby('country')[col].transform(lambda x: x.interpolate(method='linear', limit_direction='both'))\n",
    "\n",
    "# Step 2: Fill remaining HAQ using regression on year\n",
    "if df['HAQ_Index'].isna().sum() > 0:\n",
    "    known = df[df['HAQ_Index'].notna()]\n",
    "    unknown = df[df['HAQ_Index'].isna()]\n",
    "    model = LinearRegression().fit(known[['year']], known['HAQ_Index'])\n",
    "    df.loc[unknown.index, 'HAQ_Index'] = model.predict(unknown[['year']])\n",
    "\n",
    "# Step 3: Fill remaining RSD (if any) using regression\n",
    "if df['RSD'].isna().sum() > 0:\n",
    "    known_rsd = df[df['RSD'].notna()]\n",
    "    unknown_rsd = df[df['RSD'].isna()]\n",
    "    model_rsd = LinearRegression().fit(known_rsd[['year']], known_rsd['RSD'])\n",
    "    df.loc[unknown_rsd.index, 'RSD'] = model_rsd.predict(unknown_rsd[['year']])"
   ]
  },
  {
   "cell_type": "code",
   "execution_count": null,
   "metadata": {},
   "outputs": [],
   "source": [
    "#Log Transformations: Normalize skewed variables\n",
    "df['log_gdp_per_capita'] = np.log(df['GDP PER CAPITA (USD)'] + 1)\n",
    "df['log_population_density'] = np.log(df['Population Density'] + 1)\n",
    "df['log_total_co2'] = np.log(df['Total CO2 Emission excluding LUCF (Mt)'] + 1)\n",
    "\n",
    "\n",
    "#Per Capita Pollution Measures: Scale pollution to population for fair comparisons\n",
    "df['co2_per_capita'] = df['Total CO2 Emission excluding LUCF (Mt)'] / df['Population']\n",
    "df['no2_per_capita'] = df['Nitrogen oxide'] / df['Population']\n",
    "df['black_carbon_per_capita'] = df['Black Carbon'] / df['Population']\n",
    "\n",
    "#Pollution burden adjusted for healthcare quality\n",
    "df['pollution_x_low_haq'] = df['co2_per_capita'] * (1 - df['HAQ_Index'] / 100)\n",
    "\n",
    "df['year_index'] = df['year'] - df['year'].min() #Time Index: Relative year index\n",
    "\n",
    "df['lagged_dalys'] = df.groupby('country')['DALYs'].shift(1) #Lagged DALYs: Previous year's burden for temporal modeling\n",
    "\n",
    "df.head()\n"
   ]
  },
  {
   "cell_type": "code",
   "execution_count": null,
   "metadata": {},
   "outputs": [],
   "source": [
    "#Rolling Averages: Capture long-term exposure effects\n",
    "df['pm25_3yr_avg'] = df.groupby('country')['pm25_DALY'].transform(lambda x: x.rolling(window=3, min_periods=1).mean())\n",
    "df['dalys_3yr_avg'] = df.groupby('country')['DALYs'].transform(lambda x: x.rolling(window=3, min_periods=1).mean())\n",
    "\n",
    "#Temporal Change: Year-over-year change in pollution\n",
    "df['delta_pm25'] = df.groupby('country')['pm25_DALY'].diff()\n",
    "df['delta_black_carbon'] = df.groupby('country')['Black Carbon'].diff()\n",
    "\n",
    "#Interaction Terms: Capture compound effects between variables\n",
    "df['gdp_x_haq'] = df['GDP PER CAPITA (USD)'] * df['HAQ_Index']\n",
    "df['smoking_x_pm25'] = df['smoking_DALY'] * df['pm25_DALY']\n",
    "df['haq_x_dalys_lag'] = df['HAQ_Index'] * df.groupby('country')['DALYs'].shift(1)\n",
    "\n",
    "#Vulnerability Index: Composite of low GDP, high population density, and low HAQ\n",
    "df['norm_gdp'] = df.groupby('year')['GDP PER CAPITA (USD)'].transform(lambda x: (x - x.min()) / (x.max() - x.min()))\n",
    "df['norm_density'] = df.groupby('year')['Population Density'].transform(lambda x: (x - x.min()) / (x.max() - x.min()))\n",
    "df['norm_haq'] = df.groupby('year')['HAQ_Index'].transform(lambda x: (x - x.min()) / (x.max() - x.min()))\n",
    "df['vulnerability_index'] = (1 - df['norm_gdp']) + df['norm_density'] + (1 - df['norm_haq'])\n",
    "\n",
    "\n",
    "# Preview key new features\n",
    "df[['log_gdp_per_capita', 'co2_per_capita', 'pollution_x_low_haq', 'pm25_3yr_avg',\n",
    "    'delta_pm25', 'gdp_x_haq', 'vulnerability_index']].head()"
   ]
  },
  {
   "cell_type": "code",
   "execution_count": null,
   "metadata": {},
   "outputs": [],
   "source": [
    "all_features = [\n",
    "    'log_gdp_per_capita', 'log_population_density', 'log_total_co2',\n",
    "    'co2_per_capita', 'pollution_x_low_haq', 'year_index', 'lagged_dalys',\n",
    "    'pm25_3yr_avg', 'delta_pm25', 'gdp_x_haq', 'smoking_x_pm25',\n",
    "    'haq_x_dalys_lag', 'vulnerability_index'\n",
    "]\n",
    "\n",
    "structural_features = [f for f in all_features if f not in ['lagged_dalys', 'haq_x_dalys_lag']]"
   ]
  },
  {
   "cell_type": "code",
   "execution_count": null,
   "metadata": {},
   "outputs": [],
   "source": [
    "#Panel Modeling — Random Effects Approximation (OLS + Clustered SE)\n",
    "# STEP 6A: Random Effects-style Panel Regression (with Clustered SEs)\n",
    "\n",
    "\n",
    "# Feature list\n",
    "candidate_features = [\n",
    "    'log_gdp_per_capita',\n",
    "    'pollution_x_low_haq',\n",
    "    'pm25_3yr_avg',\n",
    "    'smoking_x_pm25',\n",
    "    'vulnerability_index'\n",
    "]\n",
    "\n",
    "# Prepare panel structure\n",
    "panel_df = df[candidate_features + ['DALYs']].dropna().copy()\n",
    "panel_df['const'] = 1\n",
    "\n",
    "# Remove collinear feature\n",
    "final_features = candidate_features.copy()\n",
    "for feature in candidate_features:\n",
    "    test_features = [f for f in final_features if f != feature]\n",
    "    X = panel_df[test_features + ['const']]\n",
    "    if matrix_rank(X.values) == len(test_features) + 1:\n",
    "        final_features = test_features\n",
    "        break\n",
    "\n",
    "# Final regression design\n",
    "X_final = panel_df[final_features + ['const']]\n",
    "\n",
    "# VIF check\n",
    "vif_data = pd.DataFrame()\n",
    "vif_data[\"feature\"] = final_features\n",
    "vif_data[\"VIF\"] = [variance_inflation_factor(X_final[final_features].values, i) for i in range(len(final_features))]\n",
    "\n",
    "# Run PanelOLS\n",
    "model = PanelOLS(panel_df['DALYs'], X_final, entity_effects=True)\n",
    "results = model.fit(cov_type='clustered', cluster_entity=True)\n",
    "\n",
    "# Output\n",
    "print(results.summary)\n",
    "print(vif_data)\n"
   ]
  }
 ],
 "metadata": {
  "kernelspec": {
   "display_name": "Python 3",
   "language": "python",
   "name": "python3"
  },
  "language_info": {
   "codemirror_mode": {
    "name": "ipython",
    "version": 3
   },
   "file_extension": ".py",
   "mimetype": "text/x-python",
   "name": "python",
   "nbconvert_exporter": "python",
   "pygments_lexer": "ipython3",
   "version": "3.9.6"
  }
 },
 "nbformat": 4,
 "nbformat_minor": 2
}
