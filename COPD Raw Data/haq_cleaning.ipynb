{
 "cells": [
  {
   "cell_type": "code",
   "execution_count": 1,
   "metadata": {},
   "outputs": [],
   "source": [
    "import pandas as pd"
   ]
  },
  {
   "cell_type": "code",
   "execution_count": 2,
   "metadata": {},
   "outputs": [],
   "source": [
    "# Step 1: Load all relevant files\n",
    "haq_2016_rsd_df = pd.read_csv(\"IHME_GBD_2016_HAQ_INDEX_1990_2016_UNSCALED_CAUSE_VALUES_Y2018M05D23.CSV\")\n",
    "haq_2016_df = pd.read_csv(\"IHME_GBD_2016_HAQ_INDEX_1990_2016_SCALED_CAUSE_VALUES_Y2018M05D23.CSV\")\n",
    "haq_2015_rsd_df = pd.read_csv(\"IHME_GBD_2015_HAQ_INDEX_1990_2015_AGE_RISK_STANDARDIZED_MORTALITY_RATES_Y2017M05D18.CSV\")\n",
    "haq_2015_df = pd.read_csv(\"IHME_GBD_2015_HAQ_INDEX_1990_2015_HAQ_INDEX_AND_VALUES_Y2017M05D18.CSV\")\n",
    "haq_2019_df = pd.read_csv(\"IHME_GBD_2019_HAQ_1990_2019_DATA.CSV\")"
   ]
  },
  {
   "cell_type": "code",
   "execution_count": 3,
   "metadata": {},
   "outputs": [],
   "source": [
    "\n",
    "# Step 2: Prepare unified African country list (mapped)\n",
    "country_name_mapping = {\n",
    "    \"Cabo Verde\": \"Cape Verde\",\n",
    "    \"Democratic Republic of Congo\": \"Democratic Republic of the Congo\",\n",
    "    \"Eswatini\": \"Swaziland\",\n",
    "    \"Gambia\": \"The Gambia\"\n",
    "}\n",
    "african_countries = [\n",
    "    'Algeria', 'Angola', 'Benin', 'Botswana', 'Burkina Faso', 'Burundi',\n",
    "    'Cabo Verde', 'Cameroon', 'Central African Republic', 'Chad', 'Comoros',\n",
    "    'Congo', \"Cote d'Ivoire\", 'Democratic Republic of Congo', 'Djibouti',\n",
    "    'Egypt', 'Equatorial Guinea', 'Eritrea', 'Eswatini', 'Ethiopia', 'Gabon',\n",
    "    'Gambia', 'Ghana', 'Guinea', 'Guinea-Bissau', 'Kenya', 'Lesotho', 'Liberia',\n",
    "    'Libya', 'Madagascar', 'Malawi', 'Mali', 'Mauritania', 'Mauritius', 'Morocco',\n",
    "    'Mozambique', 'Namibia', 'Niger', 'Nigeria', 'Rwanda', 'Sao Tome and Principe',\n",
    "    'Senegal', 'Seychelles', 'Sierra Leone', 'Somalia', 'South Africa',\n",
    "    'South Sudan', 'Sudan', 'Togo', 'Tunisia', 'Uganda', 'Tanzania',\n",
    "    'Zambia', 'Zimbabwe'\n",
    "]\n",
    "mapped_african_countries = [\n",
    "    country_name_mapping.get(country, country) for country in african_countries\n",
    "]"
   ]
  },
  {
   "cell_type": "code",
   "execution_count": 4,
   "metadata": {},
   "outputs": [],
   "source": [
    "# Step 3: Filter each dataset using the same logic\n",
    "\n",
    "# 2016 Death Rate for Chronic Respiratory Diseases\n",
    "haq_2016_rsd = haq_2016_rsd_df[\n",
    "    (haq_2016_rsd_df[\"indicator_name\"] == \"Chronic respiratory diseases\") &\n",
    "    (haq_2016_rsd_df[\"measure\"] == \"Age- and risk-standardized death rate per 100,000\") &\n",
    "    (haq_2016_rsd_df[\"location_name\"].isin(mapped_african_countries))\n",
    "][[\"location_name\", \"year_id\", \"indicator_name\", \"val\"]]\n",
    "\n",
    "# 2016 HAQ Index\n",
    "haq_2016 = haq_2016_df[\n",
    "    (haq_2016_df[\"indicator_name\"] == \"Healthcare Access and Quality Index\") &\n",
    "    (haq_2016_df[\"location_name\"].isin(mapped_african_countries))\n",
    "][[\"location_name\", \"year_id\", \"indicator_name\", \"val\"]]\n",
    "\n",
    "# 2015 Death Rate for Chronic Respiratory Diseases\n",
    "haq_2015_rsd = haq_2015_rsd_df[\n",
    "    (haq_2015_rsd_df[\"year_id\"] == 2015) &\n",
    "    (haq_2015_rsd_df[\"indicator_name\"] == \"Chronic respiratory diseases\") &\n",
    "    (haq_2015_rsd_df[\"location_name\"].isin(mapped_african_countries))\n",
    "][[\"location_name\", \"year_id\", \"indicator_name\", \"val\"]]\n",
    "\n",
    "# 2015 HAQ Index\n",
    "haq_2015 = haq_2015_df[\n",
    "    (haq_2015_df[\"year_id\"] == 2015) &\n",
    "    (haq_2015_df[\"indicator_name\"] == \"Healthcare Access and Quality\") &\n",
    "    (haq_2015_df[\"location_name\"].isin(mapped_african_countries))\n",
    "][[\"location_name\", \"year_id\", \"indicator_name\", \"val\"]]\n",
    "\n",
    "# # # Code 5 - 2019 HAQ and Chronic Respiratory\n",
    "# haq_2019 = haq_2019_df[\n",
    "#     (haq_2019_df[\"location_name\"].isin(mapped_african_countries)) &\n",
    "#     (haq_2019_df[\"age_group_name\"] == 'Age-standardized') &\n",
    "#     (haq_2019_df[\"indicator_name\"].isin(['Chronic respiratory diseases', 'HAQ Index'])) &\n",
    "#     (haq_2019_df[\"year_id\"] == 2019)\n",
    "# ][[\"location_name\", \"year_id\", \"indicator_name\", \"val\"]]\n",
    "\n",
    "\n",
    "\n",
    "\n"
   ]
  },
  {
   "cell_type": "code",
   "execution_count": 5,
   "metadata": {},
   "outputs": [],
   "source": [
    "#haq 2019 filter\n",
    "\n",
    "\n",
    "africa_countries = [\n",
    "    'Algeria', 'Angola', 'Benin', 'Botswana', 'Burkina Faso', 'Burundi',\n",
    "    'Cabo Verde', 'Cameroon', 'Central African Republic', 'Chad', 'Comoros',\n",
    "    'Congo', \"Côte d'Ivoire\", 'Democratic Republic of the Congo', 'Djibouti',\n",
    "    'Egypt', 'Equatorial Guinea', 'Eritrea', 'Eswatini', 'Ethiopia', 'Gabon',\n",
    "    'Gambia', 'Ghana', 'Guinea', 'Guinea-Bissau', 'Kenya', 'Lesotho', 'Liberia',\n",
    "    'Libya', 'Madagascar', 'Malawi', 'Mali', 'Mauritania', 'Mauritius', 'Morocco',\n",
    "    'Mozambique', 'Namibia', 'Niger', 'Nigeria', 'Rwanda', 'Sao Tome and Principe',\n",
    "    'Senegal', 'Seychelles', 'Sierra Leone', 'Somalia', 'South Africa',\n",
    "    'South Sudan', 'Sudan', 'Togo', 'Tunisia', 'Uganda', 'United Republic of Tanzania',\n",
    "    'Zambia', 'Zimbabwe'\n",
    "]\n",
    "\n",
    "haq_2019_df_filtered = haq_2019_df[\n",
    "    (haq_2019_df['location_name'].isin(africa_countries)) &\n",
    "    (haq_2019_df['age_group_name'] == 'Age-standardized') &\n",
    "    (haq_2019_df['indicator_name'].isin(['Chronic respiratory diseases', 'HAQ Index'])) &\n",
    "    (haq_2019_df['year_id'] >= 2000)\n",
    "][['location_name', 'year_id', 'indicator_name', 'val']]\n",
    "\n",
    "\n",
    "haq_2019_df_filtered['location_name'] = haq_2019_df_filtered['location_name'].replace({\n",
    "    'Democratic Republic of the Congo': 'Democratic Republic of Congo',\n",
    "    \"Côte d'Ivoire\": \"Cote d'Ivoire\",\n",
    "    'United Republic of Tanzania': 'Tanzania'\n",
    "}) #renamed for uniformity while merging"
   ]
  },
  {
   "cell_type": "code",
   "execution_count": 6,
   "metadata": {},
   "outputs": [],
   "source": [
    "# Step 4: Concatenate all filtered datasets into a single one\n",
    "haq_combined_df = pd.concat([haq_2016_rsd, haq_2016, haq_2015_rsd, haq_2015, haq_2019_df_filtered], ignore_index=True)\n",
    "\n",
    "\n",
    "haq_combined_df['indicator_name'] = haq_combined_df['indicator_name'].replace({\n",
    "    'Chronic respiratory diseases': 'Chronic_Respiratory(RSD)',\n",
    "    'HAQ Index': 'HAQ_Index',\n",
    "    'Healthcare Access and Quality Index': 'HAQ_Index',\n",
    "    'Healthcare Access and Quality': 'HAQ_Index'\n",
    "})"
   ]
  },
  {
   "cell_type": "code",
   "execution_count": 7,
   "metadata": {},
   "outputs": [],
   "source": [
    "haq_combined_df.head()\n",
    "haq_combined_df.to_csv(\"combined_haq_df.csv\", index=False)\n"
   ]
  }
 ],
 "metadata": {
  "kernelspec": {
   "display_name": "Python 3",
   "language": "python",
   "name": "python3"
  },
  "language_info": {
   "codemirror_mode": {
    "name": "ipython",
    "version": 3
   },
   "file_extension": ".py",
   "mimetype": "text/x-python",
   "name": "python",
   "nbconvert_exporter": "python",
   "pygments_lexer": "ipython3",
   "version": "3.9.6"
  }
 },
 "nbformat": 4,
 "nbformat_minor": 2
}
