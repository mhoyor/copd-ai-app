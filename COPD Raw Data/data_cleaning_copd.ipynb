{
 "cells": [
  {
   "cell_type": "code",
   "execution_count": null,
   "metadata": {},
   "outputs": [],
   "source": [
    "import pandas as pd"
   ]
  },
  {
   "cell_type": "code",
   "execution_count": null,
   "metadata": {},
   "outputs": [],
   "source": [
    "# Load your final dataset (replace with your actual file path)\n",
    "file1_path = \"IHME-GBD_2021_DATA-5503ed84-1.csv\"  # Risk factors\n",
    "file2_path = \"IHME-GBD_2021_DATA-6f8f7ceb-1.csv\"  # Cause of death\n",
    "\n",
    "file_air_pollution = \"air-pollution.csv\"\n",
    "file_co2 = \"co2 Emission Africa.csv\"\n",
    "file_haq = \"IHME_GBD_2019_HAQ_1990_2019_DATA.CSV\"\n",
    "\n",
    "# Load datasets\n",
    "df_risk = pd.read_csv(file1_path)\n",
    "df_cause = pd.read_csv(file2_path)\n",
    "df_air = pd.read_csv(file_air_pollution)\n",
    "df_co2 = pd.read_csv(file_co2)\n",
    "df_haq = pd.read_csv(file_haq)\n",
    "\n",
    "# Load the datasets\n",
    "air_pollution_df = pd.read_csv(\"air-pollution.csv\")\n",
    "co2_emission_df = pd.read_csv(\"co2 Emission Africa.csv\")"
   ]
  },
  {
   "cell_type": "code",
   "execution_count": null,
   "metadata": {},
   "outputs": [],
   "source": [
    "# Dataset 1: Health Burden (Cause of Death Only)\n",
    "# drop the columns not needed.\n",
    "df_health_burden = df_cause.drop(columns=['sex','age','upper', 'lower'])\n",
    "\n",
    "df_health_burden.head()\n"
   ]
  },
  {
   "cell_type": "code",
   "execution_count": null,
   "metadata": {},
   "outputs": [],
   "source": [
    "# Dataset 2: Risk Factor Burden\n",
    "df_risk_factor = df_risk.drop(columns=['sex','age','upper', 'lower'])\n",
    "df_risk_factor = df_risk_factor.rename(columns={'rei': 'risk_factor'})\n",
    "\n",
    "\n",
    "df_risk_factor.head()"
   ]
  },
  {
   "cell_type": "code",
   "execution_count": null,
   "metadata": {},
   "outputs": [],
   "source": [
    "# Dataset 3: Contextual Dataset\n",
    "african_countries = [\n",
    "    'Algeria', 'Angola', 'Benin', 'Botswana', 'Burkina Faso', 'Burundi',\n",
    "    'Cabo Verde', 'Cameroon', 'Central African Republic', 'Chad', 'Comoros',\n",
    "    'Congo', 'Côte d’Ivoire', 'Democratic Republic of the Congo', 'Djibouti',\n",
    "    'Egypt', 'Equatorial Guinea', 'Eritrea', 'Eswatini', 'Ethiopia', 'Gabon',\n",
    "    'Gambia', 'Ghana', 'Guinea', 'Guinea-Bissau', 'Kenya', 'Lesotho', 'Liberia',\n",
    "    'Libya', 'Madagascar', 'Malawi', 'Mali', 'Mauritania', 'Mauritius', 'Morocco',\n",
    "    'Mozambique', 'Namibia', 'Niger', 'Nigeria', 'Rwanda', 'Sao Tome and Principe',\n",
    "    'Senegal', 'Seychelles', 'Sierra Leone', 'Somalia', 'South Africa',\n",
    "    'South Sudan', 'Sudan', 'Togo', 'Tunisia', 'Uganda', 'United Republic of Tanzania',\n",
    "    'Zambia', 'Zimbabwe'\n",
    "]\n"
   ]
  },
  {
   "cell_type": "code",
   "execution_count": null,
   "metadata": {},
   "outputs": [],
   "source": [
    "#filter the health access and quality index for african countries\n",
    "\n",
    "# Filter the df_haq DataFrame for the required indicators and countries\n",
    "# Apply filtering criteria\n",
    "df_haq_filtered = df_haq[\n",
    "    (df_haq['location_name'].isin(african_countries)) &\n",
    "    (df_haq['age_group_name'] == 'Age-standardized') &\n",
    "    (df_haq['indicator_name'].isin(['Chronic respiratory diseases', 'HAQ Index'])) &\n",
    "    (df_haq['year_id'] >= 2000)\n",
    "][['location_name', 'year_id', 'indicator_name', 'val']]\n",
    "\n",
    "# Pivot the table to create separate columns for each indicator\n",
    "df_haq_pivot = df_haq_filtered.pivot_table(\n",
    "    index=['location_name', 'year_id'],\n",
    "    columns='indicator_name',\n",
    "    values='val',\n",
    "    aggfunc='mean'  # Using mean in case of duplicates\n",
    ").reset_index()\n",
    "\n",
    "# Rename columns\n",
    "df_haq_pivot = df_haq_pivot.rename(columns={\n",
    "    'location_name': 'Country',\n",
    "    'year_id': 'Year',\n",
    "    'Chronic respiratory diseases': 'Chronic_Respiratory(RSD)',\n",
    "    'HAQ Index': 'HAQ_Index'\n",
    "})\n",
    "\n",
    "# Display the final dataset\n",
    "print(df_haq_pivot.head())"
   ]
  },
  {
   "cell_type": "code",
   "execution_count": null,
   "metadata": {},
   "outputs": [],
   "source": [
    "# Merge on 'Country' and 'Year'\n",
    "df_air_pol = pd.merge(df_co2, df_air, on=[\"Country\", \"Year\"], how=\"inner\")\n",
    "\n",
    "# Calculate Population Density\n",
    "df_air_pol[\"Population Density\"] = df_air_pol[\"Population\"] / df_air_pol[\"Area (Km2)\"]\n",
    "\n",
    "# Select and reorder columns to match the final structure\n",
    "final_columns_order = [\n",
    "    \"Country\", \"Sub-Region\", \"Year\", \"Population\", \"GDP PER CAPITA (USD)\", \"Area (Km2)\",\n",
    "    \"Population Density\", \"Total CO2 Emission excluding LUCF (Mt)\", \"Nitrogen Oxide\",\n",
    "    \"Sulphur Dioxide\", \"Carbon Monoxide\", \"Organic Carbon\", \"NMVOCs\", \"Black Carbon\", \"Ammonia\"\n",
    "]\n",
    "\n",
    "# Create the final DataFrame\n",
    "df_air_pol = df_air_pol[final_columns_order]\n",
    "\n",
    "\n",
    "df_air_pol.head()\n"
   ]
  },
  {
   "cell_type": "code",
   "execution_count": null,
   "metadata": {},
   "outputs": [],
   "source": [
    "df_socioeconomic = pd.merge(df_air_pol, df_haq_pivot, on=['Country', 'Year'], how='left')\n",
    "df_socioeconomic = df_socioeconomic.loc[:, ~df_socioeconomic.columns.str.contains('upper|lower')]\n",
    "\n",
    "\n",
    "df_socioeconomic.head()"
   ]
  },
  {
   "cell_type": "code",
   "execution_count": null,
   "metadata": {},
   "outputs": [],
   "source": [
    "# Save all datasets to CSV\n",
    "df_health_burden.to_csv(\"health_burden_dataset.csv\", index=False)\n",
    "df_risk_factor.to_csv(\"risk_factor_dataset.csv\", index=False)\n",
    "df_socioeconomic.to_csv(\"socioeconomic_dataset.csv\", index=False)"
   ]
  }
 ],
 "metadata": {
  "kernelspec": {
   "display_name": "Python 3",
   "language": "python",
   "name": "python3"
  },
  "language_info": {
   "codemirror_mode": {
    "name": "ipython",
    "version": 3
   },
   "file_extension": ".py",
   "mimetype": "text/x-python",
   "name": "python",
   "nbconvert_exporter": "python",
   "pygments_lexer": "ipython3",
   "version": "3.9.6"
  }
 },
 "nbformat": 4,
 "nbformat_minor": 2
}
