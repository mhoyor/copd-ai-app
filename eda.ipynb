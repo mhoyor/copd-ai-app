{
 "cells": [
  {
   "cell_type": "code",
   "execution_count": null,
   "metadata": {},
   "outputs": [],
   "source": [
    "import pandas as pd\n",
    "\n",
    "# Load the datasets\n",
    "socioeconomic_df = pd.read_csv(\"/mnt/data/socioeconomic_dataset.csv\")\n",
    "health_burden_df = pd.read_csv(\"/mnt/data/health_burden_dataset.csv\")\n",
    "risk_factor_df = pd.read_csv(\"/mnt/data/risk_factor_dataset.csv\")\n",
    "\n",
    "# --- Step 1: Standardize column names for consistency ---\n",
    "socioeconomic_df.rename(columns={'Country': 'country', 'Year': 'year'}, inplace=True)\n",
    "health_burden_df.rename(columns={'location': 'country'}, inplace=True)\n",
    "risk_factor_df.rename(columns={'location': 'country'}, inplace=True)\n",
    "\n",
    "# --- Step 2: Normalize text values for merging ---\n",
    "socioeconomic_df['country'] = socioeconomic_df['country'].str.strip().str.lower()\n",
    "health_burden_df['country'] = health_burden_df['country'].str.strip().str.lower()\n",
    "risk_factor_df['country'] = risk_factor_df['country'].str.strip().str.lower()\n",
    "\n",
    "# --- Step 3: Subset COPD-specific rows from burden and risk datasets ---\n",
    "copd_burden_df = health_burden_df[\n",
    "    health_burden_df['cause'].str.contains(\"chronic obstructive pulmonary disease\", case=False)\n",
    "].copy()\n",
    "\n",
    "copd_risk_df = risk_factor_df[\n",
    "    risk_factor_df['cause'].str.contains(\"chronic obstructive pulmonary disease\", case=False)\n",
    "].copy()\n",
    "\n",
    "# --- Step 4: Pivot health burden data to wide format ---\n",
    "burden_pivot = copd_burden_df.pivot_table(\n",
    "    index=['country', 'year'],\n",
    "    columns='measure',\n",
    "    values='val',\n",
    "    aggfunc='mean'\n",
    ").reset_index()\n",
    "\n",
    "# --- Step 5: Pivot risk factor data to wide format ---\n",
    "risk_pivot = copd_risk_df.pivot_table(\n",
    "    index=['country', 'year'],\n",
    "    columns='risk_factor',\n",
    "    values='val',\n",
    "    aggfunc='mean'\n",
    ").reset_index()\n",
    "\n",
    "# --- Step 6: Merge all datasets on 'country' and 'year' ---\n",
    "merged_df = socioeconomic_df.merge(burden_pivot, on=['country', 'year'], how='left')\n",
    "merged_df = merged_df.merge(risk_pivot, on=['country', 'year'], how='left')\n",
    "\n",
    "# --- Preview the final merged dataset ---\n",
    "print(\"Merged DataFrame shape:\", merged_df.shape)\n",
    "print(merged_df.head())\n"
   ]
  }
 ],
 "metadata": {
  "language_info": {
   "name": "python"
  }
 },
 "nbformat": 4,
 "nbformat_minor": 2
}
