{
 "cells": [
  {
   "cell_type": "code",
   "execution_count": 2,
   "metadata": {},
   "outputs": [],
   "source": [
    "import pandas as pd\n",
    "import matplotlib.pyplot as plt\n",
    "import seaborn as sns"
   ]
  },
  {
   "cell_type": "code",
   "execution_count": 3,
   "metadata": {},
   "outputs": [],
   "source": [
    "#load the datasets\n",
    "\n",
    "socioeconomic_df = pd.read_csv(\"socioeconomic_dataset.csv\")\n",
    "health_burden_df = pd.read_csv(\"health_burden_dataset.csv\")\n",
    "risk_factors_df = pd.read_csv(\"risk_factor_dataset.csv\")"
   ]
  },
  {
   "cell_type": "code",
   "execution_count": 4,
   "metadata": {},
   "outputs": [
    {
     "data": {
      "text/html": [
       "<div>\n",
       "<style scoped>\n",
       "    .dataframe tbody tr th:only-of-type {\n",
       "        vertical-align: middle;\n",
       "    }\n",
       "\n",
       "    .dataframe tbody tr th {\n",
       "        vertical-align: top;\n",
       "    }\n",
       "\n",
       "    .dataframe thead th {\n",
       "        text-align: right;\n",
       "    }\n",
       "</style>\n",
       "<table border=\"1\" class=\"dataframe\">\n",
       "  <thead>\n",
       "    <tr style=\"text-align: right;\">\n",
       "      <th></th>\n",
       "      <th>measure</th>\n",
       "      <th>location</th>\n",
       "      <th>cause</th>\n",
       "      <th>risk_factor</th>\n",
       "      <th>metric</th>\n",
       "      <th>year</th>\n",
       "      <th>val</th>\n",
       "    </tr>\n",
       "  </thead>\n",
       "  <tbody>\n",
       "    <tr>\n",
       "      <th>0</th>\n",
       "      <td>Deaths</td>\n",
       "      <td>Morocco</td>\n",
       "      <td>Chronic obstructive pulmonary disease</td>\n",
       "      <td>Ambient ozone pollution</td>\n",
       "      <td>Number</td>\n",
       "      <td>2000</td>\n",
       "      <td>257.840865</td>\n",
       "    </tr>\n",
       "    <tr>\n",
       "      <th>1</th>\n",
       "      <td>Deaths</td>\n",
       "      <td>Morocco</td>\n",
       "      <td>Chronic obstructive pulmonary disease</td>\n",
       "      <td>Ambient ozone pollution</td>\n",
       "      <td>Number</td>\n",
       "      <td>2001</td>\n",
       "      <td>249.595886</td>\n",
       "    </tr>\n",
       "    <tr>\n",
       "      <th>2</th>\n",
       "      <td>Deaths</td>\n",
       "      <td>Morocco</td>\n",
       "      <td>Chronic obstructive pulmonary disease</td>\n",
       "      <td>Ambient ozone pollution</td>\n",
       "      <td>Number</td>\n",
       "      <td>2002</td>\n",
       "      <td>245.426604</td>\n",
       "    </tr>\n",
       "    <tr>\n",
       "      <th>3</th>\n",
       "      <td>Deaths</td>\n",
       "      <td>Morocco</td>\n",
       "      <td>Chronic obstructive pulmonary disease</td>\n",
       "      <td>Ambient ozone pollution</td>\n",
       "      <td>Number</td>\n",
       "      <td>2003</td>\n",
       "      <td>268.556783</td>\n",
       "    </tr>\n",
       "    <tr>\n",
       "      <th>4</th>\n",
       "      <td>Deaths</td>\n",
       "      <td>Morocco</td>\n",
       "      <td>Chronic obstructive pulmonary disease</td>\n",
       "      <td>Ambient ozone pollution</td>\n",
       "      <td>Number</td>\n",
       "      <td>2004</td>\n",
       "      <td>298.192621</td>\n",
       "    </tr>\n",
       "  </tbody>\n",
       "</table>\n",
       "</div>"
      ],
      "text/plain": [
       "  measure location                                  cause  \\\n",
       "0  Deaths  Morocco  Chronic obstructive pulmonary disease   \n",
       "1  Deaths  Morocco  Chronic obstructive pulmonary disease   \n",
       "2  Deaths  Morocco  Chronic obstructive pulmonary disease   \n",
       "3  Deaths  Morocco  Chronic obstructive pulmonary disease   \n",
       "4  Deaths  Morocco  Chronic obstructive pulmonary disease   \n",
       "\n",
       "               risk_factor  metric  year         val  \n",
       "0  Ambient ozone pollution  Number  2000  257.840865  \n",
       "1  Ambient ozone pollution  Number  2001  249.595886  \n",
       "2  Ambient ozone pollution  Number  2002  245.426604  \n",
       "3  Ambient ozone pollution  Number  2003  268.556783  \n",
       "4  Ambient ozone pollution  Number  2004  298.192621  "
      ]
     },
     "execution_count": 4,
     "metadata": {},
     "output_type": "execute_result"
    }
   ],
   "source": [
    "risk_factors_df.head()"
   ]
  },
  {
   "cell_type": "code",
   "execution_count": 5,
   "metadata": {},
   "outputs": [],
   "source": [
    "# Standardize column names for consistency\n",
    "socioeconomic_df.rename(columns={'Country': 'country', 'Year': 'year'}, inplace=True)\n",
    "health_burden_df.rename(columns={'location': 'country'}, inplace=True)\n",
    "risk_factors_df.rename(columns={'location': 'country'}, inplace=True)"
   ]
  },
  {
   "cell_type": "code",
   "execution_count": 6,
   "metadata": {},
   "outputs": [],
   "source": [
    "# Step 2: Normalize text values for merging\n",
    "socioeconomic_df['country'] = socioeconomic_df['country'].str.strip().str.lower()\n",
    "health_burden_df['country'] = health_burden_df['country'].str.strip().str.lower()\n",
    "risk_factors_df['country'] = risk_factors_df['country'].str.strip().str.lower()"
   ]
  },
  {
   "cell_type": "code",
   "execution_count": 7,
   "metadata": {},
   "outputs": [],
   "source": [
    "# Step 3: Subset COPD-specific rows from burden and risk datasets\n",
    "copd_burden_df = health_burden_df[\n",
    "    health_burden_df['cause'].str.contains(\"chronic obstructive pulmonary disease\", case=False)\n",
    "].copy()\n",
    "\n",
    "copd_risk_df = risk_factors_df[\n",
    "    risk_factors_df['cause'].str.contains(\"chronic obstructive pulmonary disease\", case=False)\n",
    "].copy()"
   ]
  },
  {
   "cell_type": "code",
   "execution_count": 8,
   "metadata": {},
   "outputs": [],
   "source": [
    "# Step 4: Pivot health burden data to wide format ---\n",
    "burden_pivot = copd_burden_df.pivot_table(\n",
    "    index=['country', 'year'],\n",
    "    columns='measure',\n",
    "    values='val',\n",
    "    aggfunc='mean'\n",
    ").reset_index()"
   ]
  },
  {
   "cell_type": "code",
   "execution_count": 9,
   "metadata": {},
   "outputs": [],
   "source": [
    "# Step 5: Pivot risk factor data to wide format ---\n",
    "risk_pivot = copd_risk_df.pivot_table(\n",
    "    index=['country', 'year'],\n",
    "    columns='risk_factor',\n",
    "    values='val',\n",
    "    aggfunc='mean'\n",
    ").reset_index() "
   ]
  },
  {
   "cell_type": "code",
   "execution_count": null,
   "metadata": {},
   "outputs": [],
   "source": []
  },
  {
   "cell_type": "code",
   "execution_count": 10,
   "metadata": {},
   "outputs": [
    {
     "name": "stdout",
     "output_type": "stream",
     "text": [
      "Merged DataFrame shape: (1040, 28)\n",
      "   country       Sub-Region  year  Population  GDP PER CAPITA (USD)  \\\n",
      "0  algeria  Northern Africa  2000    30774621               1780.38   \n",
      "1  algeria  Northern Africa  2001    31200985               1754.58   \n",
      "2  algeria  Northern Africa  2002    31624696               1794.81   \n",
      "3  algeria  Northern Africa  2003    32055883               2117.05   \n",
      "4  algeria  Northern Africa  2004    32510186               2624.80   \n",
      "\n",
      "   Area (Km2)  Population Density  Total CO2 Emission excluding LUCF (Mt)  \\\n",
      "0     2381741           12.921061                                   80.05   \n",
      "1     2381741           13.100075                                   78.65   \n",
      "2     2381741           13.277974                                   82.40   \n",
      "3     2381741           13.459013                                   88.19   \n",
      "4     2381741           13.649757                                   89.49   \n",
      "\n",
      "   Nitrogen Oxide  Sulphur Dioxide  ...       Deaths     Incidence  \\\n",
      "0       242832.24         89269.27  ...  2493.629042  28242.647531   \n",
      "1       246238.80         83231.85  ...  2558.749856  29540.993463   \n",
      "2       271977.39        108062.85  ...  2656.394115  31153.212398   \n",
      "3       276968.15         99115.59  ...  2775.818158  32909.566644   \n",
      "4       290319.45        105658.06  ...  2884.031193  34679.926076   \n",
      "\n",
      "      Prevalence  YLDs (Years Lived with Disability)  \\\n",
      "0  408840.830313                        25101.743830   \n",
      "1  426458.817482                        26172.587156   \n",
      "2  447935.566209                        27464.657091   \n",
      "3  471288.546293                        28878.681108   \n",
      "4  494937.364024                        30304.611356   \n",
      "\n",
      "   YLLs (Years of Life Lost)  Ambient ozone pollution  \\\n",
      "0               51360.935434              5054.980944   \n",
      "1               52695.269981              5081.895308   \n",
      "2               54682.299394              4844.384940   \n",
      "3               56740.531108              4919.215499   \n",
      "4               58715.119957              5145.654330   \n",
      "\n",
      "   Ambient particulate matter pollution  \\\n",
      "0                           9375.097693   \n",
      "1                           9638.739979   \n",
      "2                           9959.869207   \n",
      "3                          10280.677842   \n",
      "4                          10556.059161   \n",
      "\n",
      "   Household air pollution from solid fuels  Secondhand smoke       Smoking  \n",
      "0                                354.386610       3437.971977  13305.271759  \n",
      "1                                325.150285       3547.952804  13640.704588  \n",
      "2                                293.801265       3701.332607  14130.376786  \n",
      "3                                259.948892       3866.094336  14689.413591  \n",
      "4                                225.717856       4029.419293  15191.876843  \n",
      "\n",
      "[5 rows x 28 columns]\n"
     ]
    }
   ],
   "source": [
    "# Step 6: Merge all datasets on 'country' and 'year' \n",
    "merged_df = socioeconomic_df.merge(burden_pivot, on=['country', 'year'], how='left')\n",
    "merged_df = merged_df.merge(risk_pivot, on=['country', 'year'], how='left')\n",
    "\n",
    "# Preview the final merged dataset\n",
    "print(\"Merged DataFrame shape:\", merged_df.shape)\n",
    "print(merged_df.head())\n"
   ]
  }
 ],
 "metadata": {
  "kernelspec": {
   "display_name": "Python 3",
   "language": "python",
   "name": "python3"
  },
  "language_info": {
   "codemirror_mode": {
    "name": "ipython",
    "version": 3
   },
   "file_extension": ".py",
   "mimetype": "text/x-python",
   "name": "python",
   "nbconvert_exporter": "python",
   "pygments_lexer": "ipython3",
   "version": "3.9.6"
  }
 },
 "nbformat": 4,
 "nbformat_minor": 2
}
